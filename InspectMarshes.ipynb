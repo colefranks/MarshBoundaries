{
 "cells": [
  {
   "cell_type": "code",
   "execution_count": null,
   "id": "64942252",
   "metadata": {},
   "outputs": [],
   "source": [
    "import numpy as np\n",
    "#cv2 a.k.a. opencv is a package for dealing with images\n",
    "import cv2 as cv\n",
    "import tensorflow as tf\n",
    "import os\n",
    "import matplotlib.pyplot as plt"
   ]
  },
  {
   "cell_type": "code",
   "execution_count": null,
   "id": "a32835b1",
   "metadata": {},
   "outputs": [],
   "source": [
    "#LOAD IMAGES\n",
    "# chose this size so that it approximates images well but is also highly divisible by 2\n",
    "# because some of the neural network layers shrink the size by factor of 2\n",
    "\n",
    "XDIM = 2048\n",
    "YDIM = 11*XDIM//8 \n",
    "\n",
    "def load_marsh_images(folder):\n",
    "    images = []\n",
    "    \n",
    "    for i in range(1,12):\n",
    "        img = cv.imread(os.path.join(folder,\"Band%d.jpg\" % i))\n",
    "        #print(\"Band%d.jpg\" % i)\n",
    "        if img is not None:\n",
    "            #convert to black and white\n",
    "            img = cv.cvtColor(img, cv.COLOR_BGR2GRAY)\n",
    "            img = cv.resize(img,(YDIM, XDIM))\n",
    "            #warp so the mask is square\n",
    "            #img = cv.warpPerspective(img,Mpad,(SIZE+2*PAD,SIZE+2*PAD))\n",
    "            images.append(img)\n",
    "    return images\n",
    "\n",
    "#get images with PIE thrown out\n",
    "\n",
    "gce_imgs = load_marsh_images(\"train_jpg/GCE\")\n",
    "pie_imgs = load_marsh_images(\"train_jpg/PIE\")\n",
    "vcr_imgs = load_marsh_images(\"train_jpg/VCR\")\n",
    "images = np.array([\n",
    "    gce_imgs,\n",
    "    pie_imgs,\n",
    "    vcr_imgs])\n",
    "NUM_IMG = images.shape[0]"
   ]
  },
  {
   "cell_type": "code",
   "execution_count": null,
   "id": "05651e34",
   "metadata": {},
   "outputs": [],
   "source": [
    "plt.imshow(images[0,0,:,:])"
   ]
  },
  {
   "cell_type": "code",
   "execution_count": null,
   "id": "3532c9bb",
   "metadata": {},
   "outputs": [],
   "source": [
    "def display():\n",
    "    #plt.figure(figsize=(20, 20))\n",
    "    fig, ax = plt.subplots(11, 3, sharex='col', sharey='row',figsize=(30,100))\n",
    "    title = ['GCE', 'PIE', 'VCR']\n",
    "\n",
    "    for i in range(3):\n",
    "        for j in range(11):\n",
    "            if j==0:\n",
    "                ax[j,i].set_title(title[i])\n",
    "            ax[j,i].imshow(images[i,j,:,:])\n",
    "    plt.axis('off')\n",
    "    plt.show()"
   ]
  },
  {
   "cell_type": "code",
   "execution_count": null,
   "id": "d22efbff",
   "metadata": {},
   "outputs": [],
   "source": [
    "display()"
   ]
  },
  {
   "cell_type": "code",
   "execution_count": null,
   "id": "5e7f65d2",
   "metadata": {},
   "outputs": [],
   "source": []
  }
 ],
 "metadata": {
  "kernelspec": {
   "display_name": "Python 3 (ipykernel)",
   "language": "python",
   "name": "python3"
  },
  "language_info": {
   "codemirror_mode": {
    "name": "ipython",
    "version": 3
   },
   "file_extension": ".py",
   "mimetype": "text/x-python",
   "name": "python",
   "nbconvert_exporter": "python",
   "pygments_lexer": "ipython3",
   "version": "3.9.7"
  }
 },
 "nbformat": 4,
 "nbformat_minor": 5
}
