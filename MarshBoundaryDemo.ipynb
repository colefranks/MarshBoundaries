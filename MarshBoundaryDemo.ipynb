{
 "cells": [
  {
   "cell_type": "code",
   "execution_count": null,
   "id": "57bf9756",
   "metadata": {},
   "outputs": [],
   "source": [
    "import PredictFromSaved"
   ]
  },
  {
   "cell_type": "code",
   "execution_count": null,
   "id": "0f4b9037",
   "metadata": {},
   "outputs": [],
   "source": [
    "import importlib\n",
    "importlib.reload(PredictFromSaved)"
   ]
  },
  {
   "cell_type": "code",
   "execution_count": null,
   "id": "e95c75fc",
   "metadata": {},
   "outputs": [],
   "source": [
    "PredictFromSaved.pred_from_saved(model_path = 'saved-models/Depth2RandomFlip89val',\n",
    "                                 folder_path=\"train_jpg/PIE\",\n",
    "                                  startx=0,\n",
    "                                  starty=0,\n",
    "                                  zoomx = 4000,\n",
    "                                  zoomy= 4000,\n",
    "                                  fig_size=20)"
   ]
  },
  {
   "cell_type": "code",
   "execution_count": null,
   "id": "2cad783f",
   "metadata": {},
   "outputs": [],
   "source": []
  }
 ],
 "metadata": {
  "kernelspec": {
   "display_name": "Python 3 (ipykernel)",
   "language": "python",
   "name": "python3"
  },
  "language_info": {
   "codemirror_mode": {
    "name": "ipython",
    "version": 3
   },
   "file_extension": ".py",
   "mimetype": "text/x-python",
   "name": "python",
   "nbconvert_exporter": "python",
   "pygments_lexer": "ipython3",
   "version": "3.9.7"
  }
 },
 "nbformat": 4,
 "nbformat_minor": 5
}
