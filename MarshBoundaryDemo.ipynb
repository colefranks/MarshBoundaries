{
 "cells": [
  {
   "cell_type": "code",
   "execution_count": null,
   "id": "57bf9756",
   "metadata": {},
   "outputs": [],
   "source": [
    "import PredictFromSaved\n",
    "import tensorflow as tf"
   ]
  },
  {
   "cell_type": "code",
   "execution_count": null,
   "id": "0f4b9037",
   "metadata": {},
   "outputs": [],
   "source": [
    "import importlib\n",
    "importlib.reload(PredictFromSaved)"
   ]
  },
  {
   "cell_type": "code",
   "execution_count": null,
   "id": "e95c75fc",
   "metadata": {},
   "outputs": [],
   "source": [
    "# make this show the mask too, when there is one.\n",
    "predicted = PredictFromSaved.pred_from_saved(model_path = 'saved-models/LinReg3000',\n",
    "                                 folder_path=\"train_jpg\",\n",
    "                                  startx=0,\n",
    "                                  starty=0,\n",
    "                                  zoomx = 2048,\n",
    "                                  zoomy= 2048,\n",
    "                                  fig_size=20)"
   ]
  }
 ],
 "metadata": {
  "kernelspec": {
   "display_name": "Python 3 (ipykernel)",
   "language": "python",
   "name": "python3"
  },
  "language_info": {
   "codemirror_mode": {
    "name": "ipython",
    "version": 3
   },
   "file_extension": ".py",
   "mimetype": "text/x-python",
   "name": "python",
   "nbconvert_exporter": "python",
   "pygments_lexer": "ipython3",
   "version": "3.9.7"
  }
 },
 "nbformat": 4,
 "nbformat_minor": 5
}
